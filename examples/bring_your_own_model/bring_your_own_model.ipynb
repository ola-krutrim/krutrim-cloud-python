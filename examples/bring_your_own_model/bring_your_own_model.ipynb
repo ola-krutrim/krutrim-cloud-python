{
 "cells": [
  {
   "cell_type": "markdown",
   "metadata": {},
   "source": [
    "# Bring Your Own Model on Krutrim Cloud\n",
    "### This notebook demonstrates how to deploy a model to Krutrim Cloud, monitor the status of the deployment, and manage tasks such as cancellation. "
   ]
  },
  {
   "cell_type": "markdown",
   "metadata": {},
   "source": [
    "### Install Krutrim Cloud SDK"
   ]
  },
  {
   "cell_type": "code",
   "execution_count": null,
   "metadata": {},
   "outputs": [],
   "source": [
    "%pip install krutrim-cloud"
   ]
  },
  {
   "cell_type": "markdown",
   "metadata": {},
   "source": [
    "### Prerequisite\n",
    "1. Create a S3 Bucket on cloud.olakrutrim.com -> Storage\n",
    "2. Export the required environment variables or store them in .env in examples directory\n",
    "\n",
    "    KRUTRIM_CLOUD_API_KEY=\"Your Model API Key\" <- Go to https://cloud.olakrutrim.com/console/inference-service?section=api-keys \n",
    "\n",
    "    KRUTRIM_CLOUD_S3_PUBLIC_KEY=\"Your S3 Bucket Public Key\" <- Go to https://cloud.olakrutrim.com/console/settings/api-keys?section=api-keys\n",
    "\n",
    "    KRUTRIM_CLOUD_S3_SECRET_KEY=\"Your S3 Bucket Secret Key\" <- Go to https://cloud.olakrutrim.com/console/settings/api-keys?section=api-keys\n",
    "\n",
    "    KRUTRIM_CLOUD_S3_BUCKET_ENDPOINT=\"Your S3 Bucket Endpoint\" <- Go to https://cloud.olakrutrim.com/console/storage?section=object_storage\n",
    "\n",
    "    KRUTRIM_CLOUD_S3_REGION=\"Your S3 Bucket Region\" i.e. \"ap-south-1\" <- Go to https://cloud.olakrutrim.com/console/storage?section=object_storage"
   ]
  },
  {
   "cell_type": "markdown",
   "metadata": {},
   "source": [
    "### Importing Required Libraries and Environment Variables\n",
    "In this section, we import the necessary libraries and load environment variables from the `.env` file."
   ]
  },
  {
   "cell_type": "code",
   "execution_count": null,
   "metadata": {},
   "outputs": [],
   "source": [
    "# Import necessary libraries\n",
    "from krutrim_cloud import KrutrimCloud\n",
    "from dotenv import load_dotenv\n",
    "import os\n",
    "\n",
    "# Load environment variables from .env file\n",
    "load_dotenv()"
   ]
  },
  {
   "cell_type": "markdown",
   "metadata": {},
   "source": [
    "### Krutrim Cloud Client Initialization\n",
    "In this step, we create a client instance of model registry and deploy modules to communicate with the Krutrim Cloud API.\n"
   ]
  },
  {
   "cell_type": "code",
   "execution_count": null,
   "metadata": {},
   "outputs": [],
   "source": [
    "# Initialize KrutrimCloud client\n",
    "client = KrutrimCloud()"
   ]
  },
  {
   "cell_type": "markdown",
   "metadata": {},
   "source": [
    "### Setting Model and S3 Configuration\n",
    "This section defines the bucket name, model ID, and version for deployment."
   ]
  },
  {
   "cell_type": "code",
   "execution_count": null,
   "metadata": {},
   "outputs": [],
   "source": [
    "# Define your model bucket and version details\n",
    "bucket_name = \"<your-bucket-name>\"  # \"my-bucket-name\"\n",
    "model_name = \"<your-model-name>\"  # \"model_name\" \n",
    "version = \"<model-version>\"  # \"v1\" <- without '.' in version string\n",
    "local_directory = \"<local-dirpath-to-upload-files>\"  # \"./model\""
   ]
  },
  {
   "cell_type": "markdown",
   "metadata": {},
   "source": [
    "### Uploading Files to S3\n",
    "In this section, we upload files from the local directory to the S3 bucket for the model version.\n",
    "This functionality allows you to transfer local files for a model to the S3 bucket where Krutrim Cloud can access them."
   ]
  },
  {
   "cell_type": "code",
   "execution_count": null,
   "metadata": {},
   "outputs": [],
   "source": [
    "try:\n",
    "    client.registry.model_registry.upload_files_to_s3(\n",
    "            local_dir_path=local_directory,\n",
    "            bucket_name=bucket_name,\n",
    "            model_id=model_name,\n",
    "            version=version,\n",
    "        )\n",
    "except Exception as exc:\n",
    "    print(f\"Exception while uploading/registering the model: {exc}\")"
   ]
  },
  {
   "cell_type": "markdown",
   "metadata": {},
   "source": [
    "### Model Deployment\n",
    "\n",
    "Now we deploy the model to Krutrim Cloud. The S3 endpoint, access key, and secret key are fetched from the environment variables. This section also handles the deployment response and retrieves the task ID and name."
   ]
  },
  {
   "cell_type": "code",
   "execution_count": null,
   "metadata": {},
   "outputs": [],
   "source": [
    "try:\n",
    "    # Deploy the model using the KrutrimCloud client\n",
    "    deploy_response = client.deploy.tasks.create(\n",
    "        bucket_name=bucket_name,\n",
    "        version=version,\n",
    "        model=model_name,\n",
    "        s3_endpoint=os.environ.get(\"KRUTRIM_CLOUD_S3_BUCKET_ENDPOINT\"),  # type: ignore\n",
    "        s3_access_key=os.environ.get(\"KRUTRIM_CLOUD_S3_PUBLIC_KEY\"),  # type: ignore\n",
    "        s3_secret=os.environ.get(\"KRUTRIM_CLOUD_S3_SECRET_KEY\"),  # type: ignore\n",
    "        s3_region=os.environ.get(\"KRUTRIM_CLOUD_S3_REGION\")  # S3 region # type: ignore\n",
    "    )\n",
    "\n",
    "    # Extract model name and task ID from the response\n",
    "    deploy_model_name = deploy_response.name\n",
    "    deploy_task_id = deploy_response.id\n",
    "\n",
    "    # Print deployed model details\n",
    "    print(f\"Deployed Model Name: {deploy_model_name}\")\n",
    "    print(f\"Deploy Task ID: {deploy_task_id}\")\n",
    "except Exception as exc:\n",
    "    # Print the exception if something goes wrong\n",
    "    print(f\"Exception: {exc}\")"
   ]
  },
  {
   "cell_type": "markdown",
   "metadata": {},
   "source": [
    "### Task Monitoring and Status Retrieval\n",
    "After deployment, it's essential to monitor the task's status. Here, we retrieve the deployment task status and print it out.\n"
   ]
  },
  {
   "cell_type": "code",
   "execution_count": null,
   "metadata": {},
   "outputs": [],
   "source": [
    "try:    \n",
    "    # Retrieve the deployment task status\n",
    "    retrieve_response = client.deploy.tasks.retrieve(id=deploy_task_id)\n",
    "    print(f\"Deploy Task Status: {retrieve_response.status}\")\n",
    "except Exception as exc:\n",
    "    # Print the exception if something goes wrong\n",
    "    print(f\"Exception: {exc}\")"
   ]
  },
  {
   "cell_type": "markdown",
   "metadata": {},
   "source": [
    "### List All Tasks\n",
    "This section lists all tasks currently available in Krutrim Cloud, displaying their status and IDs."
   ]
  },
  {
   "cell_type": "code",
   "execution_count": null,
   "metadata": {},
   "outputs": [],
   "source": [
    "try:\n",
    "    # List all tasks and print their IDs and statuses\n",
    "    task_list = client.deploy.tasks.list().task_list\n",
    "    for task in task_list:\n",
    "        print(f\"Task ID: {task['id']} | Status: {task['status']} | Model Name: {task['name']}\")\n",
    "except Exception as exc:\n",
    "    # Print the exception if something goes wrong\n",
    "    print(f\"Exception: {exc}\")"
   ]
  },
  {
   "cell_type": "markdown",
   "metadata": {},
   "source": [
    "### Run Inference on deployed model"
   ]
  },
  {
   "cell_type": "code",
   "execution_count": null,
   "metadata": {},
   "outputs": [],
   "source": [
    "model_id = client.registry.model_registry.fetch_model_id(model_name)\n",
    "infer_model_name = f\"{model_id}:{deploy_task_id}\"\n",
    "\n",
    "messages = [\n",
    "    {\"role\": \"system\", \"content\": \"You are a helpful assistant.\"},\n",
    "    {\n",
    "        \"role\": \"user\",\n",
    "        \"content\": \"Give two random number.  Provide only number without any explanation, for example: \\nRandom Number: <number>\",\n",
    "    },\n",
    "]\n",
    "\n",
    "response = client.chat.completions.create(model=infer_model_name, messages=messages)\n",
    "\n",
    "# Access generated output\n",
    "txt_output_data = response.choices[0].message.content  # type:ignore\n",
    "print(f\"Inference Output: \\n{txt_output_data}\")"
   ]
  },
  {
   "cell_type": "markdown",
   "metadata": {},
   "source": [
    "### Task Cancellation\n",
    "If needed, you can cancel a task. This section demonstrates how to cancel the deployment task by its ID.\n"
   ]
  },
  {
   "cell_type": "code",
   "execution_count": null,
   "metadata": {},
   "outputs": [],
   "source": [
    "try:\n",
    "    # Cancel the deployment task if necessary\n",
    "    client.deploy.tasks.cancel(deploy_task_id)\n",
    "except Exception as exc:\n",
    "    # Print the exception if something goes wrong\n",
    "    print(f\"Exception: {exc}\")"
   ]
  },
  {
   "cell_type": "code",
   "execution_count": null,
   "metadata": {},
   "outputs": [],
   "source": []
  }
 ],
 "metadata": {
  "kernelspec": {
   "display_name": "jyp-ntbk",
   "language": "python",
   "name": "python3"
  },
  "language_info": {
   "codemirror_mode": {
    "name": "ipython",
    "version": 3
   },
   "file_extension": ".py",
   "mimetype": "text/x-python",
   "name": "python",
   "nbconvert_exporter": "python",
   "pygments_lexer": "ipython3",
   "version": "3.10.14"
  }
 },
 "nbformat": 4,
 "nbformat_minor": 2
}
